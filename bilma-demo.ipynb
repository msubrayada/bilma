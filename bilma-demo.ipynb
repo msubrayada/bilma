{
 "cells": [
  {
   "cell_type": "markdown",
   "id": "31348be1-ab0e-47e7-84fb-a5724c019287",
   "metadata": {},
   "source": [
    "# bilma tutorial\n",
    "## import bilma"
   ]
  },
  {
   "cell_type": "code",
   "execution_count": 2,
   "id": "d9386b41-b377-4aa8-aabd-164ca29d17f7",
   "metadata": {},
   "outputs": [],
   "source": [
    "from bilma import bilma_model\n",
    "import numpy as np"
   ]
  },
  {
   "cell_type": "markdown",
   "id": "3ecc9b96-3d4e-4619-b305-24f8c86568c2",
   "metadata": {},
   "source": [
    "## Load a trained model"
   ]
  },
  {
   "cell_type": "code",
   "execution_count": 2,
   "id": "69d1da7a-2d9b-46b3-9647-4d1ffc14221e",
   "metadata": {},
   "outputs": [],
   "source": [
    "model = bilma_model.load(\"models/bert_small_MX.txt_epoch-1_b-872122-final.h5\")"
   ]
  },
  {
   "cell_type": "code",
   "execution_count": 3,
   "id": "b6385223-cae9-4fd4-821d-00309f20a2c3",
   "metadata": {},
   "outputs": [
    {
     "name": "stdout",
     "output_type": "stream",
     "text": [
      "Model: \"model_5\"\n",
      "_________________________________________________________________\n",
      "Layer (type)                 Output Shape              Param #   \n",
      "=================================================================\n",
      "capt_input (InputLayer)      [(None, 280)]             0         \n",
      "_________________________________________________________________\n",
      "embedding (Embedding)        (None, 280, 512)          14860800  \n",
      "_________________________________________________________________\n",
      "encoder_5 (Encoder)          (None, 280, 512)          9456640   \n",
      "_________________________________________________________________\n",
      "dense_37 (Dense)             (None, 280, 29025)        14889825  \n",
      "=================================================================\n",
      "Total params: 39,207,265\n",
      "Trainable params: 39,207,265\n",
      "Non-trainable params: 0\n",
      "_________________________________________________________________\n"
     ]
    }
   ],
   "source": [
    "model.summary()"
   ]
  },
  {
   "cell_type": "code",
   "execution_count": 4,
   "id": "ef750580-370f-4774-b54d-265a4b117e06",
   "metadata": {},
   "outputs": [
    {
     "data": {
      "text/plain": [
       "[<KerasTensor: shape=(None, 280) dtype=float32 (created by layer 'capt_input')>]"
      ]
     },
     "execution_count": 4,
     "metadata": {},
     "output_type": "execute_result"
    }
   ],
   "source": [
    "model.inputs"
   ]
  },
  {
   "cell_type": "code",
   "execution_count": 5,
   "id": "e142bec7-5272-4036-8457-db617c10dda8",
   "metadata": {},
   "outputs": [
    {
     "data": {
      "text/plain": [
       "[<KerasTensor: shape=(None, 280, 29025) dtype=float32 (created by layer 'dense_37')>]"
      ]
     },
     "execution_count": 5,
     "metadata": {},
     "output_type": "execute_result"
    }
   ],
   "source": [
    "model.outputs"
   ]
  },
  {
   "cell_type": "markdown",
   "id": "126f55f3-0f64-4bfa-bd53-dfe5a30c8db7",
   "metadata": {},
   "source": [
    "## Test MLM on new text"
   ]
  },
  {
   "cell_type": "code",
   "execution_count": 6,
   "id": "38e1d410-2710-4f97-83c3-7e3bfc17e985",
   "metadata": {},
   "outputs": [],
   "source": [
    "tokenizer = bilma_model.tokenizer(\"d:/data/twitts/vocab_file_ALL.txt\", 280)"
   ]
  },
  {
   "cell_type": "code",
   "execution_count": 48,
   "id": "32213681-fb4d-4456-aa3b-81a4bfcad4a6",
   "metadata": {},
   "outputs": [],
   "source": [
    "tweet = tokenizer.tokenize(\"tenemos tres dias sin internet ni senal de celular en el pueblo . incomunicados en el siglo xxi tampoco hay servicio de telefonia fija\")\n",
    "mask_pos = 2 # aplica una máscara en la posición de la palabra 'tres'\n",
    "tweet[0, mask_pos] = tokenizer.MASK"
   ]
  },
  {
   "cell_type": "code",
   "execution_count": 49,
   "id": "070bf77f-fded-4148-a596-348942457275",
   "metadata": {},
   "outputs": [],
   "source": [
    "p = model.predict(tweet)"
   ]
  },
  {
   "cell_type": "code",
   "execution_count": 50,
   "id": "0b270168-b0de-4ec9-841e-5884dcb2ecfc",
   "metadata": {},
   "outputs": [
    {
     "data": {
      "text/plain": [
       "<tf.Tensor: shape=(1,), dtype=string, numpy=\n",
       "array([b'no tenemos 0 dias sin internet ni senal de celular en el pueblo . inc ##om ##un ##ica ##dos en el siglo xxi tampoco hay servicio de transporte . [END] [END] [END] [END] [END] [END] [END] [END] [END] [END] [END] [END] [END] [END] [END] [END] [END] [END] [END] [END] [END] [END] [END] [END] [END] [END] [END] [END] [END] [END] [END] [END] [END] [END] [END] [END] [END] [END] [END] [END] [END] [END] [END] [END] [END] [END] [END] [END] [END] [END] [END] [END] [END] [END] [END] [END] [END] [END] [END] [END] [END] [END] [END] [END] [END] [END] [END] [END] [END] [END] [END] [END] [END] [END] [END] [END] [END] [END] [END] [END] [END] [END] [END] [END] [END] [END] [END] [END] [END] [END] [END] [END] [END] [END] [END] [END] [END] [END] [END] [END] [END] [END] [END] [END] [END] [END] [END] [END] [END] [END] [END] [END] [END] [END] [END] [END] [END] [END] [END] [END] [END] [END] [END] [END] [END] [END] [END] [END] [END] [END] [END] [END] [END] [END] [END] [END] [END] [END] [END] [END] [END] [END] [END] [END] [END] [END] [END] [END] [END] [END] [END] [END] [END] [END] [END] [END] [END] [END] [END] [END] [END] [END] [END] [END] [END] [END] [END] [END] [END] [END] [END] [END] [END] [END] [END] [END] [END] [END] [END] [END] [END] [END] [END] [END] [END] [END] [END] [END] [END] [END] [END] [END] [END] [END] [END] [END] [END] [END] [END] [END] [END] [END] [END] [END] [END] [END] [END] [END] [END] [END] [END] [END] [END] [END] [END] [END] [END] [END] [END] [END] [END] [END] [END] [END] [END] [END] [END] [END] [END] [END] [END] [END] [END] [END] [END] [END] [END] [END] [END] [END] [END] [END] [END] [END] [END] [END] [END] [END] [END] [END] [END]'],\n",
       "      dtype=object)>"
      ]
     },
     "execution_count": 50,
     "metadata": {},
     "output_type": "execute_result"
    }
   ],
   "source": [
    "tokenizer.detokenize([np.argmax(p[0], axis=1)])"
   ]
  },
  {
   "cell_type": "code",
   "execution_count": 51,
   "id": "0cc8642c-be42-4475-b88d-be3aca44deeb",
   "metadata": {},
   "outputs": [
    {
     "name": "stdout",
     "output_type": "stream",
     "text": [
      "0 dos tres muchos varios tantos unos buenos mas estos\n"
     ]
    }
   ],
   "source": [
    "print(tokenizer.detokenize([np.argsort(p[0][mask_pos])[-10:][::-1]]).numpy()[0].decode(\"utf8\"))"
   ]
  },
  {
   "cell_type": "code",
   "execution_count": null,
   "id": "62cc4f89-c44f-4374-a5ff-d9ef22bb126e",
   "metadata": {},
   "outputs": [],
   "source": []
  }
 ],
 "metadata": {
  "kernelspec": {
   "display_name": "Python 3 (ipykernel)",
   "language": "python",
   "name": "python3"
  },
  "language_info": {
   "codemirror_mode": {
    "name": "ipython",
    "version": 3
   },
   "file_extension": ".py",
   "mimetype": "text/x-python",
   "name": "python",
   "nbconvert_exporter": "python",
   "pygments_lexer": "ipython3",
   "version": "3.7.9"
  }
 },
 "nbformat": 4,
 "nbformat_minor": 5
}
